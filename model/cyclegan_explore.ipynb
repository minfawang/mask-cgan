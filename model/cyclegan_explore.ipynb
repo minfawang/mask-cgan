{
 "cells": [
  {
   "cell_type": "code",
   "execution_count": 64,
   "metadata": {},
   "outputs": [],
   "source": [
    "import torch\n",
    "from torchviz import make_dot\n",
    "from models import Generator\n",
    "import matplotlib.pyplot as plt\n",
    "\n",
    "class Option(object):\n",
    "  pass\n",
    "\n",
    "\n",
    "opt = Option()\n",
    "opt.input_nc = 3  # input number of channels.\n",
    "opt.output_nc = 3  # output number of channels.\n",
    "\n",
    "netG_A2B = Generator(opt.input_nc, opt.output_nc)\n",
    "real_A = torch.zeros(1, 3, 256, 256)\n",
    "\n",
    "fake_B = netG_A2B(real_A)\n",
    "dot = make_dot(fake_B, params=dict(netG_A2B.named_parameters()))"
   ]
  },
  {
   "cell_type": "code",
   "execution_count": 10,
   "metadata": {},
   "outputs": [
    {
     "data": {
      "text/plain": [
       "'output/netG_A2B_model.gv.pdf'"
      ]
     },
     "execution_count": 10,
     "metadata": {},
     "output_type": "execute_result"
    }
   ],
   "source": [
    "# import graphviz\n",
    "# g = graphviz.Graph()\n",
    "dot.render('output/netG_A2B_model.gv')"
   ]
  },
  {
   "cell_type": "code",
   "execution_count": 15,
   "metadata": {},
   "outputs": [
    {
     "name": "stdout",
     "output_type": "stream",
     "text": [
      "{'hello': 'world'}\n"
     ]
    }
   ],
   "source": [
    "# Test json usage\n",
    "\n",
    "import json\n",
    "\n",
    "with open('example.json', 'w') as fout:\n",
    "    json.dump({\n",
    "        'hello': 'world'\n",
    "    }, fout)\n",
    "\n",
    "with open('example.json', 'r') as fin:\n",
    "    print(json.load(fin))"
   ]
  },
  {
   "cell_type": "code",
   "execution_count": 164,
   "metadata": {},
   "outputs": [
    {
     "data": {
      "text/plain": [
       "_StoreAction(option_strings=['--n_cpu'], dest='n_cpu', nargs=None, const=None, default=8, type=<class 'int'>, choices=None, help='number of cpu threads to use during batch generation', metavar=None)"
      ]
     },
     "execution_count": 164,
     "metadata": {},
     "output_type": "execute_result"
    }
   ],
   "source": [
    "# test args to dict\n",
    "import argparse\n",
    "\n",
    "parser = argparse.ArgumentParser()\n",
    "parser.add_argument('--run_id', type=str, default='default', help='If existing run_id is found, will resume from that')\n",
    "parser.add_argument('--epoch', type=int, default=0, help='starting epoch')\n",
    "parser.add_argument('--n_epochs', type=int, default=200, help='number of epochs of training')\n",
    "parser.add_argument('--batchSize', type=int, default=1, help='size of the batches')\n",
    "parser.add_argument('--dataroot', type=str, default='datasets/horse2zebra/', help='root directory of the dataset')\n",
    "parser.add_argument('--lr', type=float, default=0.0002, help='initial learning rate')\n",
    "parser.add_argument('--decay_epoch', type=int, default=100, help='epoch to start linearly decaying the learning rate to 0')\n",
    "parser.add_argument('--size', type=int, default=256, help='size of the data crop (squared assumed)')\n",
    "parser.add_argument('--input_nc', type=int, default=3, help='number of channels of input data')\n",
    "parser.add_argument('--output_nc', type=int, default=3, help='number of channels of output data')\n",
    "parser.add_argument('--cuda', action='store_true', help='use GPU computation')\n",
    "parser.add_argument('--n_cpu', type=int, default=8, help='number of cpu threads to use during batch generation')\n",
    "\n",
    "\n",
    "# opt = parser.parse_args()"
   ]
  },
  {
   "cell_type": "code",
   "execution_count": 165,
   "metadata": {},
   "outputs": [
    {
     "data": {
      "text/plain": [
       "{'run_id': 'default',\n",
       " 'epoch': 20,\n",
       " 'n_epochs': 200,\n",
       " 'batchSize': 1,\n",
       " 'dataroot': 'datasets/horse2zebra/',\n",
       " 'lr': 0.0002,\n",
       " 'decay_epoch': 100,\n",
       " 'size': 256,\n",
       " 'input_nc': 3,\n",
       " 'output_nc': 3,\n",
       " 'cuda': False,\n",
       " 'n_cpu': 8}"
      ]
     },
     "execution_count": 165,
     "metadata": {},
     "output_type": "execute_result"
    }
   ],
   "source": [
    "opt, _ = parser.parse_known_args()\n",
    "\n",
    "{\n",
    "    **vars(opt),\n",
    "    'epoch': 20,\n",
    "}"
   ]
  },
  {
   "cell_type": "code",
   "execution_count": 56,
   "metadata": {},
   "outputs": [
    {
     "data": {
      "image/png": "[encoded data removed]",
      "text/plain": [
       "<PIL.Image.Image image mode=RGB size=128x128 at 0x1307A1E48>"
      ]
     },
     "execution_count": 56,
     "metadata": {},
     "output_type": "execute_result"
    }
   ],
   "source": [
    "import glob\n",
    "from PIL import Image\n",
    "import torchvision.transforms as transforms\n",
    "\n",
    "opt = Option()\n",
    "opt.size = 128\n",
    "# opt.size = 28\n",
    "\n",
    "transforms_ = transforms.Compose([\n",
    "    transforms.Resize(int(opt.size * 1.12), Image.BICUBIC),\n",
    "    transforms.RandomCrop(opt.size),\n",
    "    transforms.RandomHorizontalFlip(),\n",
    "#     transforms.ToTensor(),\n",
    "#     transforms.Normalize([0.5], [0.5])\n",
    "])\n",
    "\n",
    "\n",
    "img_paths = glob.glob('datasets/horse2zebra/train/A/*')\n",
    "img = transforms_(Image.open(img_paths[0]))\n",
    "img"
   ]
  },
  {
   "cell_type": "code",
   "execution_count": 79,
   "metadata": {},
   "outputs": [],
   "source": [
    "# Test transform 1d vs. 3d\n",
    "\n",
    "import glob\n",
    "from PIL import Image\n",
    "import torchvision.transforms as transforms\n",
    "\n",
    "opt = Option()\n",
    "opt.size = 128\n",
    "# opt.size = 28\n",
    "\n",
    "transforms_no_norm = transforms.Compose([\n",
    "    transforms.Resize(int(opt.size * 1.12), Image.BICUBIC),\n",
    "#     transforms.RandomCrop(opt.size),\n",
    "#     transforms.RandomHorizontalFlip(),\n",
    "    transforms.ToTensor(),\n",
    "])\n",
    "\n",
    "transforms_1d = transforms.Compose([\n",
    "    transforms.Resize(int(opt.size * 1.12), Image.BICUBIC),\n",
    "#     transforms.RandomCrop(opt.size),\n",
    "#     transforms.RandomHorizontalFlip(),\n",
    "    transforms.ToTensor(),\n",
    "    transforms.Normalize([0.5], [0.5])\n",
    "])\n",
    "\n",
    "transforms_3d = transforms.Compose([\n",
    "    transforms.Resize(int(opt.size * 1.12), Image.BICUBIC),\n",
    "#     transforms.RandomCrop(opt.size),\n",
    "#     transforms.RandomHorizontalFlip(),\n",
    "    transforms.ToTensor(),\n",
    "    transforms.Normalize([0.5] * 3, [0.5] * 3)\n",
    "])\n",
    "\n",
    "\n",
    "img_paths = glob.glob('datasets/horse2zebra/train/A/*')\n",
    "img_no_norm = transforms_no_norm(Image.open(img_paths[0]))\n",
    "img_1d = transforms_1d(Image.open(img_paths[0]))\n",
    "img_3d = transforms_3d(Image.open(img_paths[0]))"
   ]
  },
  {
   "cell_type": "code",
   "execution_count": 80,
   "metadata": {},
   "outputs": [
    {
     "data": {
      "text/plain": [
       "tensor([[[-0.5059, -0.5294, -0.5922,  ..., -0.2471, -0.3098, -0.3333],\n",
       "         [-0.5059, -0.5608, -0.6157,  ..., -0.2549, -0.2706, -0.2314],\n",
       "         [-0.5608, -0.6000, -0.6471,  ..., -0.1765, -0.2471, -0.2471],\n",
       "         ...,\n",
       "         [-0.6157, -0.5765, -0.5686,  ..., -0.4902, -0.3882, -0.1765],\n",
       "         [-0.6863, -0.6314, -0.6078,  ..., -0.3725, -0.3647, -0.1608],\n",
       "         [-0.6863, -0.6000, -0.5843,  ..., -0.1843, -0.3961, -0.3255]],\n",
       "\n",
       "        [[-0.5059, -0.5294, -0.5922,  ..., -0.2471, -0.3098, -0.3333],\n",
       "         [-0.5059, -0.5608, -0.6157,  ..., -0.2549, -0.2706, -0.2314],\n",
       "         [-0.5608, -0.6000, -0.6471,  ..., -0.1765, -0.2471, -0.2471],\n",
       "         ...,\n",
       "         [-0.6157, -0.5765, -0.5686,  ..., -0.4902, -0.3882, -0.1765],\n",
       "         [-0.6863, -0.6314, -0.6078,  ..., -0.3725, -0.3647, -0.1608],\n",
       "         [-0.6863, -0.6000, -0.5843,  ..., -0.1843, -0.3961, -0.3255]],\n",
       "\n",
       "        [[-0.5059, -0.5294, -0.5922,  ..., -0.2471, -0.3098, -0.3333],\n",
       "         [-0.5059, -0.5608, -0.6157,  ..., -0.2549, -0.2706, -0.2314],\n",
       "         [-0.5608, -0.6000, -0.6471,  ..., -0.1765, -0.2471, -0.2471],\n",
       "         ...,\n",
       "         [-0.6157, -0.5765, -0.5686,  ..., -0.4902, -0.3882, -0.1765],\n",
       "         [-0.6863, -0.6314, -0.6078,  ..., -0.3725, -0.3647, -0.1608],\n",
       "         [-0.6863, -0.6000, -0.5843,  ..., -0.1843, -0.3961, -0.3255]]])"
      ]
     },
     "execution_count": 80,
     "metadata": {},
     "output_type": "execute_result"
    }
   ],
   "source": [
    "mean = torch.as_tensor([0.5])[:, None, None]\n",
    "std = torch.as_tensor([0.5])[:, None, None]\n",
    "img_no_norm.sub_(mean).div_(std)"
   ]
  },
  {
   "cell_type": "code",
   "execution_count": 81,
   "metadata": {},
   "outputs": [
    {
     "data": {
      "text/plain": [
       "tensor([[[-0.5059, -0.5294, -0.5922,  ..., -0.2471, -0.3098, -0.3333],\n",
       "         [-0.5059, -0.5608, -0.6157,  ..., -0.2549, -0.2706, -0.2314],\n",
       "         [-0.5608, -0.6000, -0.6471,  ..., -0.1765, -0.2471, -0.2471],\n",
       "         ...,\n",
       "         [-0.6157, -0.5765, -0.5686,  ..., -0.4902, -0.3882, -0.1765],\n",
       "         [-0.6863, -0.6314, -0.6078,  ..., -0.3725, -0.3647, -0.1608],\n",
       "         [-0.6863, -0.6000, -0.5843,  ..., -0.1843, -0.3961, -0.3255]],\n",
       "\n",
       "        [[-0.5059, -0.5294, -0.5922,  ..., -0.2471, -0.3098, -0.3333],\n",
       "         [-0.5059, -0.5608, -0.6157,  ..., -0.2549, -0.2706, -0.2314],\n",
       "         [-0.5608, -0.6000, -0.6471,  ..., -0.1765, -0.2471, -0.2471],\n",
       "         ...,\n",
       "         [-0.6157, -0.5765, -0.5686,  ..., -0.4902, -0.3882, -0.1765],\n",
       "         [-0.6863, -0.6314, -0.6078,  ..., -0.3725, -0.3647, -0.1608],\n",
       "         [-0.6863, -0.6000, -0.5843,  ..., -0.1843, -0.3961, -0.3255]],\n",
       "\n",
       "        [[-0.5059, -0.5294, -0.5922,  ..., -0.2471, -0.3098, -0.3333],\n",
       "         [-0.5059, -0.5608, -0.6157,  ..., -0.2549, -0.2706, -0.2314],\n",
       "         [-0.5608, -0.6000, -0.6471,  ..., -0.1765, -0.2471, -0.2471],\n",
       "         ...,\n",
       "         [-0.6157, -0.5765, -0.5686,  ..., -0.4902, -0.3882, -0.1765],\n",
       "         [-0.6863, -0.6314, -0.6078,  ..., -0.3725, -0.3647, -0.1608],\n",
       "         [-0.6863, -0.6000, -0.5843,  ..., -0.1843, -0.3961, -0.3255]]])"
      ]
     },
     "execution_count": 81,
     "metadata": {},
     "output_type": "execute_result"
    },
    {
     "data": {
      "image/png": "[encoded data removed]",
      "text/plain": [
       "<Figure size 432x288 with 1 Axes>"
      ]
     },
     "metadata": {
      "needs_background": "light"
     },
     "output_type": "display_data"
    }
   ],
   "source": [
    "plt.hist(img_1d.flatten())\n",
    "img_1d"
   ]
  },
  {
   "cell_type": "code",
   "execution_count": 82,
   "metadata": {},
   "outputs": [
    {
     "data": {
      "text/plain": [
       "tensor([[[-0.5059, -0.5294, -0.5922,  ..., -0.2471, -0.3098, -0.3333],\n",
       "         [-0.5059, -0.5608, -0.6157,  ..., -0.2549, -0.2706, -0.2314],\n",
       "         [-0.5608, -0.6000, -0.6471,  ..., -0.1765, -0.2471, -0.2471],\n",
       "         ...,\n",
       "         [-0.6157, -0.5765, -0.5686,  ..., -0.4902, -0.3882, -0.1765],\n",
       "         [-0.6863, -0.6314, -0.6078,  ..., -0.3725, -0.3647, -0.1608],\n",
       "         [-0.6863, -0.6000, -0.5843,  ..., -0.1843, -0.3961, -0.3255]],\n",
       "\n",
       "        [[-0.5059, -0.5294, -0.5922,  ..., -0.2471, -0.3098, -0.3333],\n",
       "         [-0.5059, -0.5608, -0.6157,  ..., -0.2549, -0.2706, -0.2314],\n",
       "         [-0.5608, -0.6000, -0.6471,  ..., -0.1765, -0.2471, -0.2471],\n",
       "         ...,\n",
       "         [-0.6157, -0.5765, -0.5686,  ..., -0.4902, -0.3882, -0.1765],\n",
       "         [-0.6863, -0.6314, -0.6078,  ..., -0.3725, -0.3647, -0.1608],\n",
       "         [-0.6863, -0.6000, -0.5843,  ..., -0.1843, -0.3961, -0.3255]],\n",
       "\n",
       "        [[-0.5059, -0.5294, -0.5922,  ..., -0.2471, -0.3098, -0.3333],\n",
       "         [-0.5059, -0.5608, -0.6157,  ..., -0.2549, -0.2706, -0.2314],\n",
       "         [-0.5608, -0.6000, -0.6471,  ..., -0.1765, -0.2471, -0.2471],\n",
       "         ...,\n",
       "         [-0.6157, -0.5765, -0.5686,  ..., -0.4902, -0.3882, -0.1765],\n",
       "         [-0.6863, -0.6314, -0.6078,  ..., -0.3725, -0.3647, -0.1608],\n",
       "         [-0.6863, -0.6000, -0.5843,  ..., -0.1843, -0.3961, -0.3255]]])"
      ]
     },
     "execution_count": 82,
     "metadata": {},
     "output_type": "execute_result"
    },
    {
     "data": {
      "image/png": "[encoded data removed]",
      "text/plain": [
       "<Figure size 432x288 with 1 Axes>"
      ]
     },
     "metadata": {
      "needs_background": "light"
     },
     "output_type": "display_data"
    }
   ],
   "source": [
    "plt.hist(img_3d.flatten())\n",
    "img_3d"
   ]
  },
  {
   "cell_type": "markdown",
   "metadata": {},
   "source": [
    "# Verify that discriminator works with any size inputs\n",
    "\n",
    "Conclusion is that the discriminator will always have output.shape = `[batch_size, 1]`, because of its design of the last average pooling layer. It basically averages all numbers from the output of the second last layer for each image in the batch."
   ]
  },
  {
   "cell_type": "code",
   "execution_count": 145,
   "metadata": {},
   "outputs": [
    {
     "name": "stdout",
     "output_type": "stream",
     "text": [
      "134 ms ± 3.69 ms per loop (mean ± std. dev. of 7 runs, 10 loops each)\n"
     ]
    }
   ],
   "source": [
    "%%timeit\n",
    "\n",
    "import torch.nn as nn\n",
    "import torch.nn.functional as F\n",
    "\n",
    "class Discriminator(nn.Module):\n",
    "\n",
    "  def __init__(self, input_nc, simple_d):\n",
    "    \"\"\"Constructor.\n",
    "\n",
    "    Args:\n",
    "      input_nc: int. Number of input channels.\n",
    "      simpld_d: bool. Use simple discriminator or not.\n",
    "\n",
    "    if simple_d:\n",
    "      model := 3 * conv - avg_pool\n",
    "    else:\n",
    "      model := 5 * conv - avg_pool\n",
    "    \"\"\"\n",
    "    super(Discriminator, self).__init__()\n",
    "\n",
    "    # A bunch of convolutions one after another\n",
    "    model = [\n",
    "        nn.Conv2d(input_nc, 64, 4, stride=2, padding=1),\n",
    "        nn.LeakyReLU(0.2, inplace=True)\n",
    "    ]\n",
    "\n",
    "    model += [\n",
    "        nn.Conv2d(64, 128, 4, stride=2, padding=1),\n",
    "        nn.InstanceNorm2d(128),\n",
    "        nn.LeakyReLU(0.2, inplace=True)\n",
    "    ]\n",
    "\n",
    "    if not simple_d:\n",
    "      model += [\n",
    "          nn.Conv2d(128, 256, 4, stride=2, padding=1),\n",
    "          nn.InstanceNorm2d(256),\n",
    "          nn.LeakyReLU(0.2, inplace=True)\n",
    "      ]\n",
    "\n",
    "      model += [\n",
    "          nn.Conv2d(256, 512, 4, padding=1),\n",
    "          nn.InstanceNorm2d(512),\n",
    "          nn.LeakyReLU(0.2, inplace=True)\n",
    "      ]\n",
    "\n",
    "    # FCN classification layer\n",
    "    last_nc = 128 if simple_d else 512\n",
    "    model += [nn.Conv2d(last_nc, 1, 4, padding=1)]\n",
    "\n",
    "    self.model = nn.Sequential(*model)\n",
    "\n",
    "  def forward(self, x):\n",
    "    x = self.model(x)\n",
    "    # Average pooling and flatten\n",
    "    return F.avg_pool2d(x, x.size()[2:]).view(x.size()[0], -1)\n",
    "\n",
    "\n",
    "opt = Option()\n",
    "opt.input_nc = 3\n",
    "opt.size = 64\n",
    "opt.simple_d = False\n",
    "\n",
    "# batch = torch.zeros(1, opt.input_nc, opt.size, opt.size)\n",
    "batch = torch.randn(10, opt.input_nc, opt.size, opt.size)\n",
    "\n",
    "netD = Discriminator(opt.input_nc, opt.simple_d)\n",
    "pred = netD(batch)\n",
    "\n",
    "pred"
   ]
  },
  {
   "cell_type": "markdown",
   "metadata": {},
   "source": [
    "# Benchmark generators"
   ]
  },
  {
   "cell_type": "code",
   "execution_count": 152,
   "metadata": {},
   "outputs": [
    {
     "name": "stdout",
     "output_type": "stream",
     "text": [
      "1.48 s ± 65.1 ms per loop (mean ± std. dev. of 7 runs, 1 loop each)\n"
     ]
    }
   ],
   "source": [
    "%%timeit\n",
    "\n",
    "from models import Generator\n",
    "\n",
    "opt = Option()\n",
    "opt.input_nc = 3\n",
    "opt.output_nc = 3\n",
    "opt.size = 64\n",
    "opt.n_res_blocks = 9\n",
    "\n",
    "netG = Generator(opt.input_nc, opt.output_nc, n_residual_blocks=opt.n_res_blocks)\n",
    "batch = torch.randn(10, opt.input_nc, opt.size, opt.size)\n",
    "pred = netG(batch)\n",
    "# print(pred)"
   ]
  },
  {
   "cell_type": "code",
   "execution_count": 163,
   "metadata": {},
   "outputs": [
    {
     "data": {
      "text/plain": [
       "'000'"
      ]
     },
     "execution_count": 163,
     "metadata": {},
     "output_type": "execute_result"
    }
   ],
   "source": [
    "f'{0:03d}'"
   ]
  },
  {
   "cell_type": "markdown",
   "metadata": {},
   "source": [
    "# Tensorboard with images"
   ]
  },
  {
   "cell_type": "code",
   "execution_count": 171,
   "metadata": {},
   "outputs": [],
   "source": [
    "import torch\n",
    "import torchvision\n",
    "from torch.utils.tensorboard import SummaryWriter\n",
    "from torchvision import datasets, transforms\n",
    "\n",
    "# # Writer will output to ./runs/ directory by default\n",
    "# writer = SummaryWriter()\n",
    "\n",
    "transform = transforms.Compose([transforms.ToTensor(), transforms.Normalize((0.5,), (0.5,))])\n",
    "trainset = datasets.MNIST('mnist_train', train=True, download=True, transform=transform)\n",
    "trainloader = torch.utils.data.DataLoader(trainset, batch_size=64, shuffle=True)\n",
    "model = torchvision.models.resnet50(False)\n",
    "# Have ResNet model take in grayscale rather than RGB\n",
    "model.conv1 = torch.nn.Conv2d(1, 64, kernel_size=7, stride=2, padding=3, bias=False)\n",
    "images, labels = next(iter(trainloader))\n",
    "\n",
    "grid = torchvision.utils.make_grid(images)\n",
    "# writer.add_image('images', grid, 0)\n",
    "# writer.add_graph(model, images)\n",
    "# writer.close()"
   ]
  },
  {
   "cell_type": "code",
   "execution_count": 174,
   "metadata": {},
   "outputs": [
    {
     "data": {
      "text/plain": [
       "torch.Size([64, 1, 28, 28])"
      ]
     },
     "execution_count": 174,
     "metadata": {},
     "output_type": "execute_result"
    }
   ],
   "source": [
    "images.shape"
   ]
  },
  {
   "cell_type": "code",
   "execution_count": 176,
   "metadata": {},
   "outputs": [
    {
     "data": {
      "text/plain": [
       "torch.Size([3, 242, 242])"
      ]
     },
     "execution_count": 176,
     "metadata": {},
     "output_type": "execute_result"
    }
   ],
   "source": [
    "grid.shape"
   ]
  },
  {
   "cell_type": "code",
   "execution_count": 177,
   "metadata": {},
   "outputs": [
    {
     "data": {
      "text/plain": [
       "(array([124707.,   1749.,   1758.,   1353.,   1512.,  26781.,   1290.,\n",
       "          1722.,   1914.,  12906.]),\n",
       " array([-1. , -0.8, -0.6, -0.4, -0.2,  0. ,  0.2,  0.4,  0.6,  0.8,  1. ],\n",
       "       dtype=float32),\n",
       " <a list of 10 Patch objects>)"
      ]
     },
     "execution_count": 177,
     "metadata": {},
     "output_type": "execute_result"
    },
    {
     "data": {
      "image/png": "[encoded data removed]",
      "text/plain": [
       "<Figure size 432x288 with 1 Axes>"
      ]
     },
     "metadata": {
      "needs_background": "light"
     },
     "output_type": "display_data"
    }
   ],
   "source": [
    "plt.hist(grid.flatten())"
   ]
  },
  {
   "cell_type": "code",
   "execution_count": 179,
   "metadata": {},
   "outputs": [
    {
     "data": {
      "text/plain": [
       "<matplotlib.image.AxesImage at 0x165a66710>"
      ]
     },
     "execution_count": 179,
     "metadata": {},
     "output_type": "execute_result"
    },
    {
     "data": {
      "image/png": "[encoded data removed]",
      "text/plain": [
       "<Figure size 432x288 with 1 Axes>"
      ]
     },
     "metadata": {
      "needs_background": "light"
     },
     "output_type": "display_data"
    }
   ],
   "source": [
    "plt.imshow(images[0][0])"
   ]
  },
  {
   "cell_type": "markdown",
   "metadata": {},
   "source": [
    "# Process MNIST images"
   ]
  },
  {
   "cell_type": "code",
   "execution_count": 222,
   "metadata": {},
   "outputs": [
    {
     "name": "stdout",
     "output_type": "stream",
     "text": [
      "Using downloaded and verified file: datasets/svhn_train/train_32x32.mat\n"
     ]
    }
   ],
   "source": [
    "import matplotlib\n",
    "import os\n",
    "import torchvision\n",
    "\n",
    "def get_mnist_loader():\n",
    "    transform32 = transforms.Compose([\n",
    "        transforms.Resize(32, Image.BICUBIC),\n",
    "        transforms.ToTensor(),\n",
    "    ])\n",
    "    trainset = datasets.MNIST('datasets/mnist_train', train=True, download=True, transform=transform32)\n",
    "    data_loader = torch.utils.data.DataLoader(trainset, batch_size=64, shuffle=False)\n",
    "    return data_loader\n",
    "\n",
    "\n",
    "def get_svhn_loader():\n",
    "    trainset = datasets.SVHN('datasets/svhn_train', split='train', download=True, transform=transforms.ToTensor())\n",
    "    data_loader = torch.utils.data.DataLoader(trainset, batch_size=64, shuffle=False)\n",
    "    return data_loader\n",
    "\n",
    "\n",
    "def save_images(data_loader, side, train_count, test_count):\n",
    "    dataset = 'train'  # one of train | test\n",
    "    index = 0\n",
    "    max_count = train_count + test_count\n",
    "    for images, labels in data_loader:\n",
    "        if images.size(1) == 1:\n",
    "            images = images.squeeze(1)  # [batch, 1, 28, 28] -> [batch, 28, 28]\n",
    "        else:\n",
    "            assert images.size(1) == 3  # [batch, 3, 32, 32]\n",
    "        \n",
    "        for image in images:\n",
    "            # matplotlib.image.imsave(f'datasets/mnist2svhn/{dataset}/{side}/{index:04d}.png', image.numpy())\n",
    "            torchvision.utils.save_image(image, f'datasets/mnist2svhn/{dataset}/{side}/{index:04d}.png')\n",
    "            index += 1\n",
    "            \n",
    "            if index >= train_count:\n",
    "                dataset = 'test'\n",
    "\n",
    "            if index >= max_count:\n",
    "                break\n",
    "        if index >= max_count:\n",
    "            break\n",
    "\n",
    "\n",
    "os.makedirs('datasets/mnist2svhn/train/A', exist_ok=True)\n",
    "os.makedirs('datasets/mnist2svhn/test/A', exist_ok=True)\n",
    "os.makedirs('datasets/mnist2svhn/train/B', exist_ok=True)\n",
    "os.makedirs('datasets/mnist2svhn/test/B', exist_ok=True)\n",
    "train_count = 1000\n",
    "test_count = 1000\n",
    "save_images(get_mnist_loader(), 'A', train_count, test_count)\n",
    "save_images(get_svhn_loader(), 'B', train_count, test_count)"
   ]
  },
  {
   "cell_type": "code",
   "execution_count": 224,
   "metadata": {},
   "outputs": [
    {
     "name": "stdout",
     "output_type": "stream",
     "text": [
      "torch.Size([3, 32, 32])\n"
     ]
    },
    {
     "data": {
      "image/png": "[encoded data removed]",
      "text/plain": [
       "<PIL.PngImagePlugin.PngImageFile image mode=RGB size=32x32 at 0x16646DA90>"
      ]
     },
     "execution_count": 224,
     "metadata": {},
     "output_type": "execute_result"
    }
   ],
   "source": [
    "img_path = 'datasets/mnist2svhn/train/A/0001.png'\n",
    "print(transforms.ToTensor()(Image.open(img_path)).shape)\n",
    "Image.open(img_path)"
   ]
  },
  {
   "cell_type": "code",
   "execution_count": 273,
   "metadata": {},
   "outputs": [
    {
     "data": {
      "text/plain": [
       "<matplotlib.image.AxesImage at 0x1667ca4a8>"
      ]
     },
     "execution_count": 273,
     "metadata": {},
     "output_type": "execute_result"
    },
    {
     "data": {
      "image/png": "[encoded data removed]",
      "text/plain": [
       "<Figure size 432x288 with 1 Axes>"
      ]
     },
     "metadata": {
      "needs_background": "light"
     },
     "output_type": "display_data"
    }
   ],
   "source": [
    "import random\n",
    "\n",
    "size = 16\n",
    "percent = random.choice([0.5, 0.8, 1.0])\n",
    "mid = size // 2\n",
    "\n",
    "lo = int(mid - mid * percent)\n",
    "hi = int(mid + mid * percent)\n",
    "\n",
    "mask = torch.zeros(size, size)\n",
    "mask[lo:hi, lo:hi] = 1.0\n",
    "plt.imshow(mask)"
   ]
  },
  {
   "cell_type": "code",
   "execution_count": 276,
   "metadata": {},
   "outputs": [
    {
     "data": {
      "text/plain": [
       "torch.Size([1, 6, 32, 32])"
      ]
     },
     "execution_count": 276,
     "metadata": {},
     "output_type": "execute_result"
    }
   ],
   "source": [
    "x = torch.zeros(1, 3, 32, 32)\n",
    "mask = torch.zeros(1, 3, 32, 32)\n",
    "torch.cat([x, mask], dim=1).shape"
   ]
  },
  {
   "cell_type": "markdown",
   "metadata": {},
   "source": [
    "# Mask CycleGAN model evaluation"
   ]
  },
  {
   "cell_type": "code",
   "execution_count": 291,
   "metadata": {},
   "outputs": [
    {
     "data": {
      "text/plain": [
       "<matplotlib.image.AxesImage at 0x2517d34e0>"
      ]
     },
     "execution_count": 291,
     "metadata": {},
     "output_type": "execute_result"
    },
    {
     "data": {
      "image/png": "[encoded data removed]",
      "text/plain": [
       "<Figure size 432x288 with 1 Axes>"
      ]
     },
     "metadata": {
      "needs_background": "light"
     },
     "output_type": "display_data"
    }
   ],
   "source": [
    "import numpy as np \n",
    "import matplotlib.pyplot as plt\n",
    "\n",
    "run_id = 'mask7_mnist2svhn_h32_nres=3_simpled'\n",
    "\n",
    "columns = 2\n",
    "rows = 1\n",
    "\n",
    "plt.imshow(np.random.uniform(size=(28, 28, 3)))\n",
    "\n",
    "# imgs = [\n",
    "#     np.random.uniform(size=(28, 28))\n",
    "#     for _ in range(rows * columns)\n",
    "# ]\n",
    "\n",
    "# fig = plt.figure(figsize=(8, 8))\n",
    "# for i in range(rows * columns):\n",
    "#     fig.add_subplot(rows, columns, i + 1, )\n",
    "#     plt.imshow(imgs[i])"
   ]
  }
 ],
 "metadata": {
  "kernelspec": {
   "display_name": "Python 3",
   "language": "python",
   "name": "python3"
  },
  "language_info": {
   "codemirror_mode": {
    "name": "ipython",
    "version": 3
   },
   "file_extension": ".py",
   "mimetype": "text/x-python",
   "name": "python",
   "nbconvert_exporter": "python",
   "pygments_lexer": "ipython3",
   "version": "3.7.3"
  }
 },
 "nbformat": 4,
 "nbformat_minor": 2
}
